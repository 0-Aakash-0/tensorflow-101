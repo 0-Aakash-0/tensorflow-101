{
 "cells": [
  {
   "cell_type": "code",
   "execution_count": 1,
   "metadata": {},
   "outputs": [],
   "source": [
    "import pandas as pd"
   ]
  },
  {
   "cell_type": "code",
   "execution_count": 2,
   "metadata": {},
   "outputs": [],
   "source": [
    "import os\n",
    "os.environ[\"CUDA_VISIBLE_DEVICES\"]=\"1\""
   ]
  },
  {
   "cell_type": "code",
   "execution_count": 3,
   "metadata": {},
   "outputs": [],
   "source": [
    "tp_df = pd.read_csv(\"dataset/train_true_positive_features.csv\")\n",
    "tn_df = pd.read_csv(\"dataset/train_true_negative_features.csv\")\n",
    "df = pd.concat([tp_df, tn_df])\n",
    "df = df.reset_index(drop = True)"
   ]
  },
  {
   "cell_type": "code",
   "execution_count": 4,
   "metadata": {},
   "outputs": [],
   "source": [
    "df = df[['vgg_cosine', 'vgg_euclidean_l2'\n",
    "         , 'facenet_cosine', 'facenet_euclidean_l2'\n",
    "         , 'openface_cosine', 'openface_euclidean_l2'\n",
    "         , 'is_related']]"
   ]
  },
  {
   "cell_type": "code",
   "execution_count": 5,
   "metadata": {},
   "outputs": [
    {
     "data": {
      "text/html": [
       "<div>\n",
       "<style scoped>\n",
       "    .dataframe tbody tr th:only-of-type {\n",
       "        vertical-align: middle;\n",
       "    }\n",
       "\n",
       "    .dataframe tbody tr th {\n",
       "        vertical-align: top;\n",
       "    }\n",
       "\n",
       "    .dataframe thead th {\n",
       "        text-align: right;\n",
       "    }\n",
       "</style>\n",
       "<table border=\"1\" class=\"dataframe\">\n",
       "  <thead>\n",
       "    <tr style=\"text-align: right;\">\n",
       "      <th></th>\n",
       "      <th>vgg_cosine</th>\n",
       "      <th>vgg_euclidean_l2</th>\n",
       "      <th>facenet_cosine</th>\n",
       "      <th>facenet_euclidean_l2</th>\n",
       "      <th>openface_cosine</th>\n",
       "      <th>openface_euclidean_l2</th>\n",
       "      <th>is_related</th>\n",
       "    </tr>\n",
       "  </thead>\n",
       "  <tbody>\n",
       "    <tr>\n",
       "      <th>284475</th>\n",
       "      <td>0.630001</td>\n",
       "      <td>1.122498</td>\n",
       "      <td>0.910058</td>\n",
       "      <td>1.349117</td>\n",
       "      <td>0.622130</td>\n",
       "      <td>1.115464</td>\n",
       "      <td>0</td>\n",
       "    </tr>\n",
       "    <tr>\n",
       "      <th>133369</th>\n",
       "      <td>0.437769</td>\n",
       "      <td>0.935702</td>\n",
       "      <td>0.398903</td>\n",
       "      <td>0.893199</td>\n",
       "      <td>0.270992</td>\n",
       "      <td>0.736195</td>\n",
       "      <td>1</td>\n",
       "    </tr>\n",
       "    <tr>\n",
       "      <th>171553</th>\n",
       "      <td>0.615905</td>\n",
       "      <td>1.109870</td>\n",
       "      <td>0.925502</td>\n",
       "      <td>1.360516</td>\n",
       "      <td>1.252341</td>\n",
       "      <td>1.582619</td>\n",
       "      <td>0</td>\n",
       "    </tr>\n",
       "    <tr>\n",
       "      <th>335908</th>\n",
       "      <td>0.652894</td>\n",
       "      <td>1.142711</td>\n",
       "      <td>0.984363</td>\n",
       "      <td>1.403113</td>\n",
       "      <td>0.781777</td>\n",
       "      <td>1.250422</td>\n",
       "      <td>0</td>\n",
       "    </tr>\n",
       "    <tr>\n",
       "      <th>350565</th>\n",
       "      <td>0.740999</td>\n",
       "      <td>1.217374</td>\n",
       "      <td>1.210697</td>\n",
       "      <td>1.556083</td>\n",
       "      <td>0.803363</td>\n",
       "      <td>1.267567</td>\n",
       "      <td>0</td>\n",
       "    </tr>\n",
       "  </tbody>\n",
       "</table>\n",
       "</div>"
      ],
      "text/plain": [
       "        vgg_cosine  vgg_euclidean_l2  facenet_cosine  facenet_euclidean_l2  \\\n",
       "284475    0.630001          1.122498        0.910058              1.349117   \n",
       "133369    0.437769          0.935702        0.398903              0.893199   \n",
       "171553    0.615905          1.109870        0.925502              1.360516   \n",
       "335908    0.652894          1.142711        0.984363              1.403113   \n",
       "350565    0.740999          1.217374        1.210697              1.556083   \n",
       "\n",
       "        openface_cosine  openface_euclidean_l2  is_related  \n",
       "284475         0.622130               1.115464           0  \n",
       "133369         0.270992               0.736195           1  \n",
       "171553         1.252341               1.582619           0  \n",
       "335908         0.781777               1.250422           0  \n",
       "350565         0.803363               1.267567           0  "
      ]
     },
     "execution_count": 5,
     "metadata": {},
     "output_type": "execute_result"
    }
   ],
   "source": [
    "df.sample(5)"
   ]
  },
  {
   "cell_type": "markdown",
   "metadata": {},
   "source": [
    "# Train Test Split"
   ]
  },
  {
   "cell_type": "code",
   "execution_count": 6,
   "metadata": {},
   "outputs": [],
   "source": [
    "from sklearn.model_selection import train_test_split"
   ]
  },
  {
   "cell_type": "code",
   "execution_count": 7,
   "metadata": {},
   "outputs": [],
   "source": [
    "x_train, x_test = train_test_split(df, test_size=0.15, random_state=17)"
   ]
  },
  {
   "cell_type": "markdown",
   "metadata": {},
   "source": [
    "# H2O AutoML"
   ]
  },
  {
   "cell_type": "code",
   "execution_count": 8,
   "metadata": {},
   "outputs": [],
   "source": [
    "import h2o\n",
    "from h2o.automl import H2OAutoML"
   ]
  },
  {
   "cell_type": "code",
   "execution_count": 9,
   "metadata": {},
   "outputs": [
    {
     "data": {
      "text/plain": [
       "'3.26.0.3'"
      ]
     },
     "execution_count": 9,
     "metadata": {},
     "output_type": "execute_result"
    }
   ],
   "source": [
    "h2o.__version__"
   ]
  },
  {
   "cell_type": "code",
   "execution_count": 10,
   "metadata": {},
   "outputs": [],
   "source": [
    "# specify maximum memory size and number of threads based on your system"
   ]
  },
  {
   "cell_type": "code",
   "execution_count": 11,
   "metadata": {},
   "outputs": [
    {
     "data": {
      "text/plain": [
       "72"
      ]
     },
     "execution_count": 11,
     "metadata": {},
     "output_type": "execute_result"
    }
   ],
   "source": [
    "import multiprocessing\n",
    "multiprocessing.cpu_count()"
   ]
  },
  {
   "cell_type": "code",
   "execution_count": 12,
   "metadata": {},
   "outputs": [
    {
     "data": {
      "text/plain": [
       "svmem(total=1622764929024, available=680764293120, percent=58.0, used=938262872064, free=587229573120, active=921854357504, inactive=94388834304, buffers=0, cached=97272483840, shared=855113728, slab=2700742656)"
      ]
     },
     "execution_count": 12,
     "metadata": {},
     "output_type": "execute_result"
    }
   ],
   "source": [
    "import psutil\n",
    "psutil.virtual_memory()"
   ]
  },
  {
   "cell_type": "code",
   "execution_count": 13,
   "metadata": {},
   "outputs": [
    {
     "name": "stdout",
     "output_type": "stream",
     "text": [
      "Checking whether there is an H2O instance running at http://127.0.0.1:54321 ..... not found.\n",
      "Attempting to start a local H2O server...\n",
      "  Java Version: openjdk version \"1.8.0_212\"; OpenJDK Runtime Environment (build 1.8.0_212-b04); OpenJDK 64-Bit Server VM (build 25.212-b04, mixed mode)\n",
      "  Starting server from /workspaces/96273/.local/lib/python3.6/site-packages/h2o/backend/bin/h2o.jar\n",
      "  Ice root: /tmp/tmpy29fyfrx\n",
      "  JVM stdout: /tmp/tmpy29fyfrx/h2o_96273_started_from_python.out\n",
      "  JVM stderr: /tmp/tmpy29fyfrx/h2o_96273_started_from_python.err\n",
      "  Server is running at http://127.0.0.1:54321\n",
      "Connecting to H2O server at http://127.0.0.1:54321 ... successful.\n"
     ]
    },
    {
     "data": {
      "text/html": [
       "<div style=\"overflow:auto\"><table style=\"width:50%\"><tr><td>H2O cluster uptime:</td>\n",
       "<td>01 secs</td></tr>\n",
       "<tr><td>H2O cluster timezone:</td>\n",
       "<td>Europe/Istanbul</td></tr>\n",
       "<tr><td>H2O data parsing timezone:</td>\n",
       "<td>UTC</td></tr>\n",
       "<tr><td>H2O cluster version:</td>\n",
       "<td>3.26.0.3</td></tr>\n",
       "<tr><td>H2O cluster version age:</td>\n",
       "<td>10 days </td></tr>\n",
       "<tr><td>H2O cluster name:</td>\n",
       "<td>H2O_from_python_96273_4w02yc</td></tr>\n",
       "<tr><td>H2O cluster total nodes:</td>\n",
       "<td>1</td></tr>\n",
       "<tr><td>H2O cluster free memory:</td>\n",
       "<td>177.8 Gb</td></tr>\n",
       "<tr><td>H2O cluster total cores:</td>\n",
       "<td>72</td></tr>\n",
       "<tr><td>H2O cluster allowed cores:</td>\n",
       "<td>10</td></tr>\n",
       "<tr><td>H2O cluster status:</td>\n",
       "<td>accepting new members, healthy</td></tr>\n",
       "<tr><td>H2O connection url:</td>\n",
       "<td>http://127.0.0.1:54321</td></tr>\n",
       "<tr><td>H2O connection proxy:</td>\n",
       "<td>None</td></tr>\n",
       "<tr><td>H2O internal security:</td>\n",
       "<td>False</td></tr>\n",
       "<tr><td>H2O API Extensions:</td>\n",
       "<td>Amazon S3, XGBoost, Algos, AutoML, Core V3, Core V4</td></tr>\n",
       "<tr><td>Python version:</td>\n",
       "<td>3.6.3 final</td></tr></table></div>"
      ],
      "text/plain": [
       "--------------------------  ---------------------------------------------------\n",
       "H2O cluster uptime:         01 secs\n",
       "H2O cluster timezone:       Europe/Istanbul\n",
       "H2O data parsing timezone:  UTC\n",
       "H2O cluster version:        3.26.0.3\n",
       "H2O cluster version age:    10 days\n",
       "H2O cluster name:           H2O_from_python_96273_4w02yc\n",
       "H2O cluster total nodes:    1\n",
       "H2O cluster free memory:    177.8 Gb\n",
       "H2O cluster total cores:    72\n",
       "H2O cluster allowed cores:  10\n",
       "H2O cluster status:         accepting new members, healthy\n",
       "H2O connection url:         http://127.0.0.1:54321\n",
       "H2O connection proxy:\n",
       "H2O internal security:      False\n",
       "H2O API Extensions:         Amazon S3, XGBoost, Algos, AutoML, Core V3, Core V4\n",
       "Python version:             3.6.3 final\n",
       "--------------------------  ---------------------------------------------------"
      ]
     },
     "metadata": {},
     "output_type": "display_data"
    }
   ],
   "source": [
    "#h2o.init()\n",
    "h2o.init(ip=\"127.0.0.1\", max_mem_size_GB = 200, nthreads = 10)"
   ]
  },
  {
   "cell_type": "code",
   "execution_count": 14,
   "metadata": {},
   "outputs": [
    {
     "name": "stdout",
     "output_type": "stream",
     "text": [
      "Parse progress: |█████████████████████████████████████████████████████████| 100%\n"
     ]
    }
   ],
   "source": [
    "hf = h2o.H2OFrame(x_train)"
   ]
  },
  {
   "cell_type": "code",
   "execution_count": 15,
   "metadata": {},
   "outputs": [
    {
     "data": {
      "text/html": [
       "<table>\n",
       "<thead>\n",
       "<tr><th style=\"text-align: right;\">  vgg_cosine</th><th style=\"text-align: right;\">  vgg_euclidean_l2</th><th style=\"text-align: right;\">  facenet_cosine</th><th style=\"text-align: right;\">  facenet_euclidean_l2</th><th style=\"text-align: right;\">  openface_cosine</th><th style=\"text-align: right;\">  openface_euclidean_l2</th><th style=\"text-align: right;\">  is_related</th></tr>\n",
       "</thead>\n",
       "<tbody>\n",
       "<tr><td style=\"text-align: right;\">    0.461026</td><td style=\"text-align: right;\">          0.960236</td><td style=\"text-align: right;\">        0.759346</td><td style=\"text-align: right;\">              1.23235 </td><td style=\"text-align: right;\">         0.380667</td><td style=\"text-align: right;\">               0.872545</td><td style=\"text-align: right;\">           1</td></tr>\n",
       "<tr><td style=\"text-align: right;\">    0.523298</td><td style=\"text-align: right;\">          1.02303 </td><td style=\"text-align: right;\">        0.820089</td><td style=\"text-align: right;\">              1.28069 </td><td style=\"text-align: right;\">         0.572227</td><td style=\"text-align: right;\">               1.06979 </td><td style=\"text-align: right;\">           1</td></tr>\n",
       "<tr><td style=\"text-align: right;\">    0.57931 </td><td style=\"text-align: right;\">          1.07639 </td><td style=\"text-align: right;\">        0.834568</td><td style=\"text-align: right;\">              1.29195 </td><td style=\"text-align: right;\">         0.411612</td><td style=\"text-align: right;\">               0.907317</td><td style=\"text-align: right;\">           1</td></tr>\n",
       "<tr><td style=\"text-align: right;\">    0.661336</td><td style=\"text-align: right;\">          1.15007 </td><td style=\"text-align: right;\">        1.25314 </td><td style=\"text-align: right;\">              1.58312 </td><td style=\"text-align: right;\">         0.809752</td><td style=\"text-align: right;\">               1.2726  </td><td style=\"text-align: right;\">           0</td></tr>\n",
       "<tr><td style=\"text-align: right;\">    0.380073</td><td style=\"text-align: right;\">          0.871864</td><td style=\"text-align: right;\">        0.419412</td><td style=\"text-align: right;\">              0.915873</td><td style=\"text-align: right;\">         0.386296</td><td style=\"text-align: right;\">               0.878972</td><td style=\"text-align: right;\">           1</td></tr>\n",
       "<tr><td style=\"text-align: right;\">    0.586928</td><td style=\"text-align: right;\">          1.08345 </td><td style=\"text-align: right;\">        0.980849</td><td style=\"text-align: right;\">              1.40061 </td><td style=\"text-align: right;\">         0.791823</td><td style=\"text-align: right;\">               1.25843 </td><td style=\"text-align: right;\">           0</td></tr>\n",
       "<tr><td style=\"text-align: right;\">    0.543978</td><td style=\"text-align: right;\">          1.04305 </td><td style=\"text-align: right;\">        0.900194</td><td style=\"text-align: right;\">              1.34179 </td><td style=\"text-align: right;\">         0.88473 </td><td style=\"text-align: right;\">               1.33021 </td><td style=\"text-align: right;\">           1</td></tr>\n",
       "<tr><td style=\"text-align: right;\">    0.378311</td><td style=\"text-align: right;\">          0.86984 </td><td style=\"text-align: right;\">        0.799367</td><td style=\"text-align: right;\">              1.26441 </td><td style=\"text-align: right;\">         0.467552</td><td style=\"text-align: right;\">               0.967008</td><td style=\"text-align: right;\">           0</td></tr>\n",
       "<tr><td style=\"text-align: right;\">    0.483638</td><td style=\"text-align: right;\">          0.983502</td><td style=\"text-align: right;\">        0.590177</td><td style=\"text-align: right;\">              1.08644 </td><td style=\"text-align: right;\">         0.411636</td><td style=\"text-align: right;\">               0.907343</td><td style=\"text-align: right;\">           1</td></tr>\n",
       "<tr><td style=\"text-align: right;\">    0.874395</td><td style=\"text-align: right;\">          1.32242 </td><td style=\"text-align: right;\">        0.935428</td><td style=\"text-align: right;\">              1.36779 </td><td style=\"text-align: right;\">         1.11803 </td><td style=\"text-align: right;\">               1.49535 </td><td style=\"text-align: right;\">           0</td></tr>\n",
       "</tbody>\n",
       "</table>"
      ]
     },
     "metadata": {},
     "output_type": "display_data"
    },
    {
     "data": {
      "text/plain": []
     },
     "execution_count": 15,
     "metadata": {},
     "output_type": "execute_result"
    }
   ],
   "source": [
    "hf.head()"
   ]
  },
  {
   "cell_type": "code",
   "execution_count": 16,
   "metadata": {},
   "outputs": [],
   "source": [
    "y_label = \"is_related\"\n",
    "x_labels = list(df.drop(columns=[y_label]).columns)"
   ]
  },
  {
   "cell_type": "code",
   "execution_count": 17,
   "metadata": {},
   "outputs": [
    {
     "data": {
      "text/plain": [
       "['vgg_cosine',\n",
       " 'vgg_euclidean_l2',\n",
       " 'facenet_cosine',\n",
       " 'facenet_euclidean_l2',\n",
       " 'openface_cosine',\n",
       " 'openface_euclidean_l2']"
      ]
     },
     "execution_count": 17,
     "metadata": {},
     "output_type": "execute_result"
    }
   ],
   "source": [
    "x_labels"
   ]
  },
  {
   "cell_type": "code",
   "execution_count": 18,
   "metadata": {},
   "outputs": [],
   "source": [
    "aml = H2OAutoML(max_runtime_secs=60*60*2)"
   ]
  },
  {
   "cell_type": "code",
   "execution_count": 19,
   "metadata": {
    "scrolled": true
   },
   "outputs": [
    {
     "name": "stdout",
     "output_type": "stream",
     "text": [
      "AutoML progress: |████████████████████████████████████████████████████████| 100%\n"
     ]
    }
   ],
   "source": [
    "aml.train(x = x_labels, y = y_label, training_frame = hf)"
   ]
  },
  {
   "cell_type": "markdown",
   "metadata": {},
   "source": [
    "# Leaderboard"
   ]
  },
  {
   "cell_type": "code",
   "execution_count": 20,
   "metadata": {},
   "outputs": [],
   "source": [
    "lb = aml.leaderboard"
   ]
  },
  {
   "cell_type": "code",
   "execution_count": 21,
   "metadata": {},
   "outputs": [
    {
     "data": {
      "text/html": [
       "<table>\n",
       "<thead>\n",
       "<tr><th>model_id                                           </th><th style=\"text-align: right;\">  mean_residual_deviance</th><th style=\"text-align: right;\">    rmse</th><th style=\"text-align: right;\">     mse</th><th style=\"text-align: right;\">     mae</th><th style=\"text-align: right;\">   rmsle</th></tr>\n",
       "</thead>\n",
       "<tbody>\n",
       "<tr><td>StackedEnsemble_AllModels_AutoML_20190903_211714   </td><td style=\"text-align: right;\">                0.198223</td><td style=\"text-align: right;\">0.445223</td><td style=\"text-align: right;\">0.198223</td><td style=\"text-align: right;\">0.396509</td><td style=\"text-align: right;\">0.312694</td></tr>\n",
       "<tr><td>StackedEnsemble_BestOfFamily_AutoML_20190903_211714</td><td style=\"text-align: right;\">                0.198223</td><td style=\"text-align: right;\">0.445223</td><td style=\"text-align: right;\">0.198223</td><td style=\"text-align: right;\">0.396509</td><td style=\"text-align: right;\">0.312694</td></tr>\n",
       "<tr><td>GBM_1_AutoML_20190903_211714                       </td><td style=\"text-align: right;\">                0.19834 </td><td style=\"text-align: right;\">0.445353</td><td style=\"text-align: right;\">0.19834 </td><td style=\"text-align: right;\">0.397159</td><td style=\"text-align: right;\">0.312776</td></tr>\n",
       "<tr><td>XGBoost_3_AutoML_20190903_211714                   </td><td style=\"text-align: right;\">                0.198346</td><td style=\"text-align: right;\">0.44536 </td><td style=\"text-align: right;\">0.198346</td><td style=\"text-align: right;\">0.397811</td><td style=\"text-align: right;\">0.312951</td></tr>\n",
       "<tr><td>GBM_2_AutoML_20190903_211714                       </td><td style=\"text-align: right;\">                0.198461</td><td style=\"text-align: right;\">0.445489</td><td style=\"text-align: right;\">0.198461</td><td style=\"text-align: right;\">0.397165</td><td style=\"text-align: right;\">0.312894</td></tr>\n",
       "<tr><td>GBM_3_AutoML_20190903_211714                       </td><td style=\"text-align: right;\">                0.19858 </td><td style=\"text-align: right;\">0.445623</td><td style=\"text-align: right;\">0.19858 </td><td style=\"text-align: right;\">0.396989</td><td style=\"text-align: right;\">0.312967</td></tr>\n",
       "<tr><td>DeepLearning_1_AutoML_20190903_211714              </td><td style=\"text-align: right;\">                0.199118</td><td style=\"text-align: right;\">0.446226</td><td style=\"text-align: right;\">0.199118</td><td style=\"text-align: right;\">0.398667</td><td style=\"text-align: right;\">0.31425 </td></tr>\n",
       "<tr><td>XGBoost_1_AutoML_20190903_211714                   </td><td style=\"text-align: right;\">                0.199229</td><td style=\"text-align: right;\">0.446351</td><td style=\"text-align: right;\">0.199229</td><td style=\"text-align: right;\">0.397684</td><td style=\"text-align: right;\">0.313674</td></tr>\n",
       "<tr><td>GBM_4_AutoML_20190903_211714                       </td><td style=\"text-align: right;\">                0.199367</td><td style=\"text-align: right;\">0.446506</td><td style=\"text-align: right;\">0.199367</td><td style=\"text-align: right;\">0.396856</td><td style=\"text-align: right;\">0.313593</td></tr>\n",
       "<tr><td>GLM_grid_1_AutoML_20190903_211714_model_1          </td><td style=\"text-align: right;\">                0.199736</td><td style=\"text-align: right;\">0.446919</td><td style=\"text-align: right;\">0.199736</td><td style=\"text-align: right;\">0.399971</td><td style=\"text-align: right;\">0.314168</td></tr>\n",
       "</tbody>\n",
       "</table>"
      ]
     },
     "metadata": {},
     "output_type": "display_data"
    },
    {
     "data": {
      "text/plain": []
     },
     "execution_count": 21,
     "metadata": {},
     "output_type": "execute_result"
    }
   ],
   "source": [
    "lb.head()\n",
    "#lb.head(rows=lb.nrows)"
   ]
  },
  {
   "cell_type": "code",
   "execution_count": 22,
   "metadata": {},
   "outputs": [],
   "source": [
    "saved_model = h2o.save_model(aml.leader, path = \"\")"
   ]
  },
  {
   "cell_type": "code",
   "execution_count": 23,
   "metadata": {},
   "outputs": [
    {
     "data": {
      "text/plain": [
       "'/outputs/USUALSUSPECTS/sefik/kinship/StackedEnsemble_AllModels_AutoML_20190903_211714'"
      ]
     },
     "execution_count": 23,
     "metadata": {},
     "output_type": "execute_result"
    }
   ],
   "source": [
    "saved_model"
   ]
  },
  {
   "cell_type": "markdown",
   "metadata": {},
   "source": [
    "# Validation Score"
   ]
  },
  {
   "cell_type": "code",
   "execution_count": 24,
   "metadata": {},
   "outputs": [
    {
     "name": "stdout",
     "output_type": "stream",
     "text": [
      "Parse progress: |█████████████████████████████████████████████████████████| 100%\n"
     ]
    }
   ],
   "source": [
    "hf_val = h2o.H2OFrame(x_test)"
   ]
  },
  {
   "cell_type": "code",
   "execution_count": 25,
   "metadata": {},
   "outputs": [
    {
     "name": "stdout",
     "output_type": "stream",
     "text": [
      "stackedensemble prediction progress: |████████████████████████████████████| 100%\n"
     ]
    }
   ],
   "source": [
    "predictions = aml.predict(hf_val)\n",
    "predictions_pd = predictions.as_data_frame()"
   ]
  },
  {
   "cell_type": "code",
   "execution_count": 26,
   "metadata": {},
   "outputs": [],
   "source": [
    "actuals = hf_val['is_related']\n",
    "actuals_pd = actuals.as_data_frame()"
   ]
  },
  {
   "cell_type": "code",
   "execution_count": 27,
   "metadata": {},
   "outputs": [],
   "source": [
    "classified = 0\n",
    "for i in range(0, predictions_pd.shape[0]):\n",
    "    prediction = predictions_pd.iloc[i].values[0]\n",
    "    \n",
    "    if prediction > 0.5:\n",
    "        prediction = 1\n",
    "    else:\n",
    "        prediction = 0\n",
    "    \n",
    "    actual = actuals_pd.iloc[i].values[0]\n",
    "    \n",
    "    if actual == prediction:\n",
    "        classified = classified + 1"
   ]
  },
  {
   "cell_type": "code",
   "execution_count": 28,
   "metadata": {},
   "outputs": [
    {
     "name": "stdout",
     "output_type": "stream",
     "text": [
      "accuracy on test set is:  72.6397253351565 %\n"
     ]
    }
   ],
   "source": [
    "print(\"accuracy on test set is: \",100*classified / predictions_pd.shape[0],\"%\")"
   ]
  }
 ],
 "metadata": {
  "kernelspec": {
   "display_name": "Python 3",
   "language": "python",
   "name": "python3"
  },
  "language_info": {
   "codemirror_mode": {
    "name": "ipython",
    "version": 3
   },
   "file_extension": ".py",
   "mimetype": "text/x-python",
   "name": "python",
   "nbconvert_exporter": "python",
   "pygments_lexer": "ipython3",
   "version": "3.6.3"
  }
 },
 "nbformat": 4,
 "nbformat_minor": 2
}
