{
 "cells": [
  {
   "cell_type": "code",
   "execution_count": 1,
   "metadata": {},
   "outputs": [],
   "source": [
    "import pandas as pd"
   ]
  },
  {
   "cell_type": "code",
   "execution_count": 2,
   "metadata": {},
   "outputs": [],
   "source": [
    "import os\n",
    "os.environ[\"CUDA_VISIBLE_DEVICES\"]=\"1\""
   ]
  },
  {
   "cell_type": "code",
   "execution_count": 3,
   "metadata": {},
   "outputs": [],
   "source": [
    "tp_df = pd.read_csv(\"dataset/train_true_positive_features.csv\")\n",
    "tn_df = pd.read_csv(\"dataset/train_true_negative_features.csv\")\n",
    "df = pd.concat([tp_df, tn_df])\n",
    "df = df.reset_index(drop = True)"
   ]
  },
  {
   "cell_type": "code",
   "execution_count": 4,
   "metadata": {},
   "outputs": [],
   "source": [
    "df = df[['vgg_cosine', 'vgg_euclidean_l2'\n",
    "         , 'facenet_cosine', 'facenet_euclidean_l2'\n",
    "         , 'openface_cosine', 'openface_euclidean_l2'\n",
    "         , 'is_related']]"
   ]
  },
  {
   "cell_type": "code",
   "execution_count": 5,
   "metadata": {},
   "outputs": [
    {
     "data": {
      "text/html": [
       "<div>\n",
       "<style scoped>\n",
       "    .dataframe tbody tr th:only-of-type {\n",
       "        vertical-align: middle;\n",
       "    }\n",
       "\n",
       "    .dataframe tbody tr th {\n",
       "        vertical-align: top;\n",
       "    }\n",
       "\n",
       "    .dataframe thead th {\n",
       "        text-align: right;\n",
       "    }\n",
       "</style>\n",
       "<table border=\"1\" class=\"dataframe\">\n",
       "  <thead>\n",
       "    <tr style=\"text-align: right;\">\n",
       "      <th></th>\n",
       "      <th>vgg_cosine</th>\n",
       "      <th>vgg_euclidean_l2</th>\n",
       "      <th>facenet_cosine</th>\n",
       "      <th>facenet_euclidean_l2</th>\n",
       "      <th>openface_cosine</th>\n",
       "      <th>openface_euclidean_l2</th>\n",
       "      <th>is_related</th>\n",
       "    </tr>\n",
       "  </thead>\n",
       "  <tbody>\n",
       "    <tr>\n",
       "      <th>74719</th>\n",
       "      <td>0.560566</td>\n",
       "      <td>1.058836</td>\n",
       "      <td>0.886210</td>\n",
       "      <td>1.331322</td>\n",
       "      <td>0.586833</td>\n",
       "      <td>1.083359</td>\n",
       "      <td>1</td>\n",
       "    </tr>\n",
       "    <tr>\n",
       "      <th>303703</th>\n",
       "      <td>0.668578</td>\n",
       "      <td>1.156354</td>\n",
       "      <td>0.997718</td>\n",
       "      <td>1.412599</td>\n",
       "      <td>0.957214</td>\n",
       "      <td>1.383628</td>\n",
       "      <td>0</td>\n",
       "    </tr>\n",
       "    <tr>\n",
       "      <th>314107</th>\n",
       "      <td>0.590811</td>\n",
       "      <td>1.087025</td>\n",
       "      <td>1.166196</td>\n",
       "      <td>1.527217</td>\n",
       "      <td>1.244372</td>\n",
       "      <td>1.577575</td>\n",
       "      <td>0</td>\n",
       "    </tr>\n",
       "    <tr>\n",
       "      <th>320077</th>\n",
       "      <td>0.574306</td>\n",
       "      <td>1.071733</td>\n",
       "      <td>0.694420</td>\n",
       "      <td>1.178490</td>\n",
       "      <td>0.354096</td>\n",
       "      <td>0.841542</td>\n",
       "      <td>0</td>\n",
       "    </tr>\n",
       "    <tr>\n",
       "      <th>303855</th>\n",
       "      <td>0.585434</td>\n",
       "      <td>1.082067</td>\n",
       "      <td>1.149306</td>\n",
       "      <td>1.516117</td>\n",
       "      <td>0.575240</td>\n",
       "      <td>1.072604</td>\n",
       "      <td>0</td>\n",
       "    </tr>\n",
       "  </tbody>\n",
       "</table>\n",
       "</div>"
      ],
      "text/plain": [
       "        vgg_cosine  vgg_euclidean_l2  facenet_cosine  facenet_euclidean_l2  \\\n",
       "74719     0.560566          1.058836        0.886210              1.331322   \n",
       "303703    0.668578          1.156354        0.997718              1.412599   \n",
       "314107    0.590811          1.087025        1.166196              1.527217   \n",
       "320077    0.574306          1.071733        0.694420              1.178490   \n",
       "303855    0.585434          1.082067        1.149306              1.516117   \n",
       "\n",
       "        openface_cosine  openface_euclidean_l2  is_related  \n",
       "74719          0.586833               1.083359           1  \n",
       "303703         0.957214               1.383628           0  \n",
       "314107         1.244372               1.577575           0  \n",
       "320077         0.354096               0.841542           0  \n",
       "303855         0.575240               1.072604           0  "
      ]
     },
     "execution_count": 5,
     "metadata": {},
     "output_type": "execute_result"
    }
   ],
   "source": [
    "df.sample(5)"
   ]
  },
  {
   "cell_type": "markdown",
   "metadata": {},
   "source": [
    "# Train Test Split"
   ]
  },
  {
   "cell_type": "code",
   "execution_count": 6,
   "metadata": {},
   "outputs": [],
   "source": [
    "from sklearn.model_selection import train_test_split"
   ]
  },
  {
   "cell_type": "code",
   "execution_count": 7,
   "metadata": {},
   "outputs": [],
   "source": [
    "x_train, x_test = train_test_split(df, test_size=0.15, random_state=17)"
   ]
  },
  {
   "cell_type": "markdown",
   "metadata": {},
   "source": [
    "# H2O AutoML"
   ]
  },
  {
   "cell_type": "code",
   "execution_count": 8,
   "metadata": {},
   "outputs": [],
   "source": [
    "import h2o\n",
    "from h2o.automl import H2OAutoML"
   ]
  },
  {
   "cell_type": "code",
   "execution_count": 9,
   "metadata": {},
   "outputs": [
    {
     "data": {
      "text/plain": [
       "'3.26.0.3'"
      ]
     },
     "execution_count": 9,
     "metadata": {},
     "output_type": "execute_result"
    }
   ],
   "source": [
    "h2o.__version__"
   ]
  },
  {
   "cell_type": "code",
   "execution_count": 10,
   "metadata": {},
   "outputs": [],
   "source": [
    "# specify maximum memory size and number of threads based on your system"
   ]
  },
  {
   "cell_type": "code",
   "execution_count": 11,
   "metadata": {},
   "outputs": [
    {
     "data": {
      "text/plain": [
       "72"
      ]
     },
     "execution_count": 11,
     "metadata": {},
     "output_type": "execute_result"
    }
   ],
   "source": [
    "import multiprocessing\n",
    "multiprocessing.cpu_count()"
   ]
  },
  {
   "cell_type": "code",
   "execution_count": 12,
   "metadata": {},
   "outputs": [
    {
     "data": {
      "text/plain": [
       "svmem(total=1622764929024, available=680730955776, percent=58.1, used=938275319808, free=587081805824, active=921876504576, inactive=94499237888, buffers=0, cached=97407803392, shared=876011520, slab=2707632128)"
      ]
     },
     "execution_count": 12,
     "metadata": {},
     "output_type": "execute_result"
    }
   ],
   "source": [
    "import psutil\n",
    "psutil.virtual_memory()"
   ]
  },
  {
   "cell_type": "code",
   "execution_count": 13,
   "metadata": {},
   "outputs": [
    {
     "name": "stdout",
     "output_type": "stream",
     "text": [
      "Checking whether there is an H2O instance running at http://127.0.0.1:54321 ..... not found.\n",
      "Attempting to start a local H2O server...\n",
      "  Java Version: openjdk version \"1.8.0_212\"; OpenJDK Runtime Environment (build 1.8.0_212-b04); OpenJDK 64-Bit Server VM (build 25.212-b04, mixed mode)\n",
      "  Starting server from /workspaces/sefik/.local/lib/python3.6/site-packages/h2o/backend/bin/h2o.jar\n",
      "  Ice root: /tmp/tmpsbq_2v_e\n",
      "  JVM stdout: /tmp/tmpsbq_2v_e/h2o_sefik_started_from_python.out\n",
      "  JVM stderr: /tmp/tmpsbq_2v_e/h2o_sefik_started_from_python.err\n",
      "  Server is running at http://127.0.0.1:54321\n",
      "Connecting to H2O server at http://127.0.0.1:54321 ... successful.\n"
     ]
    },
    {
     "data": {
      "text/html": [
       "<div style=\"overflow:auto\"><table style=\"width:50%\"><tr><td>H2O cluster uptime:</td>\n",
       "<td>01 secs</td></tr>\n",
       "<tr><td>H2O cluster timezone:</td>\n",
       "<td>Europe/Istanbul</td></tr>\n",
       "<tr><td>H2O data parsing timezone:</td>\n",
       "<td>UTC</td></tr>\n",
       "<tr><td>H2O cluster version:</td>\n",
       "<td>3.26.0.3</td></tr>\n",
       "<tr><td>H2O cluster version age:</td>\n",
       "<td>10 days </td></tr>\n",
       "<tr><td>H2O cluster name:</td>\n",
       "<td>H2O_from_python_sefik_5x06kk</td></tr>\n",
       "<tr><td>H2O cluster total nodes:</td>\n",
       "<td>1</td></tr>\n",
       "<tr><td>H2O cluster free memory:</td>\n",
       "<td>177.8 Gb</td></tr>\n",
       "<tr><td>H2O cluster total cores:</td>\n",
       "<td>72</td></tr>\n",
       "<tr><td>H2O cluster allowed cores:</td>\n",
       "<td>10</td></tr>\n",
       "<tr><td>H2O cluster status:</td>\n",
       "<td>accepting new members, healthy</td></tr>\n",
       "<tr><td>H2O connection url:</td>\n",
       "<td>http://127.0.0.1:54321</td></tr>\n",
       "<tr><td>H2O connection proxy:</td>\n",
       "<td>None</td></tr>\n",
       "<tr><td>H2O internal security:</td>\n",
       "<td>False</td></tr>\n",
       "<tr><td>H2O API Extensions:</td>\n",
       "<td>Amazon S3, XGBoost, Algos, AutoML, Core V3, Core V4</td></tr>\n",
       "<tr><td>Python version:</td>\n",
       "<td>3.6.3 final</td></tr></table></div>"
      ],
      "text/plain": [
       "--------------------------  ---------------------------------------------------\n",
       "H2O cluster uptime:         01 secs\n",
       "H2O cluster timezone:       Europe/Istanbul\n",
       "H2O data parsing timezone:  UTC\n",
       "H2O cluster version:        3.26.0.3\n",
       "H2O cluster version age:    10 days\n",
       "H2O cluster name:           H2O_from_python_sefik_5x06kk\n",
       "H2O cluster total nodes:    1\n",
       "H2O cluster free memory:    177.8 Gb\n",
       "H2O cluster total cores:    72\n",
       "H2O cluster allowed cores:  10\n",
       "H2O cluster status:         accepting new members, healthy\n",
       "H2O connection url:         http://127.0.0.1:54321\n",
       "H2O connection proxy:\n",
       "H2O internal security:      False\n",
       "H2O API Extensions:         Amazon S3, XGBoost, Algos, AutoML, Core V3, Core V4\n",
       "Python version:             3.6.3 final\n",
       "--------------------------  ---------------------------------------------------"
      ]
     },
     "metadata": {},
     "output_type": "display_data"
    }
   ],
   "source": [
    "#h2o.init()\n",
    "h2o.init(ip=\"127.0.0.1\", max_mem_size_GB = 200, nthreads = 10)"
   ]
  },
  {
   "cell_type": "code",
   "execution_count": 14,
   "metadata": {},
   "outputs": [
    {
     "name": "stdout",
     "output_type": "stream",
     "text": [
      "Parse progress: |█████████████████████████████████████████████████████████| 100%\n"
     ]
    }
   ],
   "source": [
    "#pandas to h2o frame\n",
    "hf = h2o.H2OFrame(x_train)\n",
    "\n",
    "#alternatively, we can directly import h2o frame instead of converting from pandas\n",
    "#hf = h2o.import_file('dataset/x_train.csv')"
   ]
  },
  {
   "cell_type": "code",
   "execution_count": 15,
   "metadata": {},
   "outputs": [
    {
     "data": {
      "text/html": [
       "<table>\n",
       "<thead>\n",
       "<tr><th style=\"text-align: right;\">  vgg_cosine</th><th style=\"text-align: right;\">  vgg_euclidean_l2</th><th style=\"text-align: right;\">  facenet_cosine</th><th style=\"text-align: right;\">  facenet_euclidean_l2</th><th style=\"text-align: right;\">  openface_cosine</th><th style=\"text-align: right;\">  openface_euclidean_l2</th><th style=\"text-align: right;\">  is_related</th></tr>\n",
       "</thead>\n",
       "<tbody>\n",
       "<tr><td style=\"text-align: right;\">    0.461026</td><td style=\"text-align: right;\">          0.960236</td><td style=\"text-align: right;\">        0.759346</td><td style=\"text-align: right;\">              1.23235 </td><td style=\"text-align: right;\">         0.380667</td><td style=\"text-align: right;\">               0.872545</td><td style=\"text-align: right;\">           1</td></tr>\n",
       "<tr><td style=\"text-align: right;\">    0.523298</td><td style=\"text-align: right;\">          1.02303 </td><td style=\"text-align: right;\">        0.820089</td><td style=\"text-align: right;\">              1.28069 </td><td style=\"text-align: right;\">         0.572227</td><td style=\"text-align: right;\">               1.06979 </td><td style=\"text-align: right;\">           1</td></tr>\n",
       "<tr><td style=\"text-align: right;\">    0.57931 </td><td style=\"text-align: right;\">          1.07639 </td><td style=\"text-align: right;\">        0.834568</td><td style=\"text-align: right;\">              1.29195 </td><td style=\"text-align: right;\">         0.411612</td><td style=\"text-align: right;\">               0.907317</td><td style=\"text-align: right;\">           1</td></tr>\n",
       "<tr><td style=\"text-align: right;\">    0.661336</td><td style=\"text-align: right;\">          1.15007 </td><td style=\"text-align: right;\">        1.25314 </td><td style=\"text-align: right;\">              1.58312 </td><td style=\"text-align: right;\">         0.809752</td><td style=\"text-align: right;\">               1.2726  </td><td style=\"text-align: right;\">           0</td></tr>\n",
       "<tr><td style=\"text-align: right;\">    0.380073</td><td style=\"text-align: right;\">          0.871864</td><td style=\"text-align: right;\">        0.419412</td><td style=\"text-align: right;\">              0.915873</td><td style=\"text-align: right;\">         0.386296</td><td style=\"text-align: right;\">               0.878972</td><td style=\"text-align: right;\">           1</td></tr>\n",
       "<tr><td style=\"text-align: right;\">    0.586928</td><td style=\"text-align: right;\">          1.08345 </td><td style=\"text-align: right;\">        0.980849</td><td style=\"text-align: right;\">              1.40061 </td><td style=\"text-align: right;\">         0.791823</td><td style=\"text-align: right;\">               1.25843 </td><td style=\"text-align: right;\">           0</td></tr>\n",
       "<tr><td style=\"text-align: right;\">    0.543978</td><td style=\"text-align: right;\">          1.04305 </td><td style=\"text-align: right;\">        0.900194</td><td style=\"text-align: right;\">              1.34179 </td><td style=\"text-align: right;\">         0.88473 </td><td style=\"text-align: right;\">               1.33021 </td><td style=\"text-align: right;\">           1</td></tr>\n",
       "<tr><td style=\"text-align: right;\">    0.378311</td><td style=\"text-align: right;\">          0.86984 </td><td style=\"text-align: right;\">        0.799367</td><td style=\"text-align: right;\">              1.26441 </td><td style=\"text-align: right;\">         0.467552</td><td style=\"text-align: right;\">               0.967008</td><td style=\"text-align: right;\">           0</td></tr>\n",
       "<tr><td style=\"text-align: right;\">    0.483638</td><td style=\"text-align: right;\">          0.983502</td><td style=\"text-align: right;\">        0.590177</td><td style=\"text-align: right;\">              1.08644 </td><td style=\"text-align: right;\">         0.411636</td><td style=\"text-align: right;\">               0.907343</td><td style=\"text-align: right;\">           1</td></tr>\n",
       "<tr><td style=\"text-align: right;\">    0.874395</td><td style=\"text-align: right;\">          1.32242 </td><td style=\"text-align: right;\">        0.935428</td><td style=\"text-align: right;\">              1.36779 </td><td style=\"text-align: right;\">         1.11803 </td><td style=\"text-align: right;\">               1.49535 </td><td style=\"text-align: right;\">           0</td></tr>\n",
       "</tbody>\n",
       "</table>"
      ]
     },
     "metadata": {},
     "output_type": "display_data"
    },
    {
     "data": {
      "text/plain": []
     },
     "execution_count": 15,
     "metadata": {},
     "output_type": "execute_result"
    }
   ],
   "source": [
    "hf.head()"
   ]
  },
  {
   "cell_type": "code",
   "execution_count": 16,
   "metadata": {},
   "outputs": [],
   "source": [
    "y_label = \"is_related\"\n",
    "x_labels = list(df.drop(columns=[y_label]).columns)"
   ]
  },
  {
   "cell_type": "code",
   "execution_count": 17,
   "metadata": {},
   "outputs": [
    {
     "data": {
      "text/plain": [
       "['vgg_cosine',\n",
       " 'vgg_euclidean_l2',\n",
       " 'facenet_cosine',\n",
       " 'facenet_euclidean_l2',\n",
       " 'openface_cosine',\n",
       " 'openface_euclidean_l2']"
      ]
     },
     "execution_count": 17,
     "metadata": {},
     "output_type": "execute_result"
    }
   ],
   "source": [
    "x_labels"
   ]
  },
  {
   "cell_type": "code",
   "execution_count": 18,
   "metadata": {},
   "outputs": [],
   "source": [
    "#this is a binary classification problem. convert is_related column to enum type instead of numerical\n",
    "#otherwise, it would be a regression problem\n",
    "hf[y_label] = hf[y_label].asfactor()"
   ]
  },
  {
   "cell_type": "code",
   "execution_count": null,
   "metadata": {},
   "outputs": [],
   "source": [
    "#hf.describe()"
   ]
  },
  {
   "cell_type": "code",
   "execution_count": 21,
   "metadata": {},
   "outputs": [],
   "source": [
    "aml = H2OAutoML(max_runtime_secs=60*60*2)"
   ]
  },
  {
   "cell_type": "code",
   "execution_count": 22,
   "metadata": {
    "scrolled": true
   },
   "outputs": [
    {
     "name": "stdout",
     "output_type": "stream",
     "text": [
      "AutoML progress: |████████████████████████████████████████████████████████| 100%\n"
     ]
    }
   ],
   "source": [
    "aml.train(x = x_labels, y = y_label, training_frame = hf)"
   ]
  },
  {
   "cell_type": "markdown",
   "metadata": {},
   "source": [
    "# Leaderboard"
   ]
  },
  {
   "cell_type": "code",
   "execution_count": 23,
   "metadata": {},
   "outputs": [],
   "source": [
    "lb = aml.leaderboard"
   ]
  },
  {
   "cell_type": "code",
   "execution_count": 26,
   "metadata": {},
   "outputs": [
    {
     "data": {
      "text/html": [
       "<table>\n",
       "<thead>\n",
       "<tr><th>model_id                                           </th><th style=\"text-align: right;\">     auc</th><th style=\"text-align: right;\">  logloss</th><th style=\"text-align: right;\">  mean_per_class_error</th><th style=\"text-align: right;\">    rmse</th><th style=\"text-align: right;\">     mse</th></tr>\n",
       "</thead>\n",
       "<tbody>\n",
       "<tr><td>XGBoost_3_AutoML_20190903_230729                   </td><td style=\"text-align: right;\">0.724614</td><td style=\"text-align: right;\"> 0.581255</td><td style=\"text-align: right;\">              0.343654</td><td style=\"text-align: right;\">0.445343</td><td style=\"text-align: right;\">0.19833 </td></tr>\n",
       "<tr><td>StackedEnsemble_AllModels_AutoML_20190903_230729   </td><td style=\"text-align: right;\">0.724614</td><td style=\"text-align: right;\"> 0.582056</td><td style=\"text-align: right;\">              0.34564 </td><td style=\"text-align: right;\">0.445599</td><td style=\"text-align: right;\">0.198559</td></tr>\n",
       "<tr><td>StackedEnsemble_BestOfFamily_AutoML_20190903_230729</td><td style=\"text-align: right;\">0.724574</td><td style=\"text-align: right;\"> 0.582107</td><td style=\"text-align: right;\">              0.342329</td><td style=\"text-align: right;\">0.445619</td><td style=\"text-align: right;\">0.198577</td></tr>\n",
       "<tr><td>XGBoost_1_AutoML_20190903_230729                   </td><td style=\"text-align: right;\">0.722517</td><td style=\"text-align: right;\"> 0.58275 </td><td style=\"text-align: right;\">              0.342604</td><td style=\"text-align: right;\">0.446046</td><td style=\"text-align: right;\">0.198957</td></tr>\n",
       "<tr><td>GLM_grid_1_AutoML_20190903_230729_model_1          </td><td style=\"text-align: right;\">0.718098</td><td style=\"text-align: right;\"> 0.620438</td><td style=\"text-align: right;\">              0.348661</td><td style=\"text-align: right;\">0.463758</td><td style=\"text-align: right;\">0.215071</td></tr>\n",
       "<tr><td>XGBoost_2_AutoML_20190903_230729                   </td><td style=\"text-align: right;\">0.71745 </td><td style=\"text-align: right;\"> 0.586581</td><td style=\"text-align: right;\">              0.350728</td><td style=\"text-align: right;\">0.447797</td><td style=\"text-align: right;\">0.200522</td></tr>\n",
       "</tbody>\n",
       "</table>"
      ]
     },
     "metadata": {},
     "output_type": "display_data"
    },
    {
     "data": {
      "text/plain": []
     },
     "execution_count": 26,
     "metadata": {},
     "output_type": "execute_result"
    }
   ],
   "source": [
    "#lb.head()\n",
    "lb.head(rows=lb.nrows)"
   ]
  },
  {
   "cell_type": "code",
   "execution_count": null,
   "metadata": {},
   "outputs": [],
   "source": [
    "#saved_model = h2o.save_model(aml.leader, path = \"\")"
   ]
  },
  {
   "cell_type": "code",
   "execution_count": null,
   "metadata": {},
   "outputs": [],
   "source": [
    "#saved_model"
   ]
  },
  {
   "cell_type": "markdown",
   "metadata": {},
   "source": [
    "# Validation Score"
   ]
  },
  {
   "cell_type": "code",
   "execution_count": 27,
   "metadata": {},
   "outputs": [
    {
     "name": "stdout",
     "output_type": "stream",
     "text": [
      "Parse progress: |█████████████████████████████████████████████████████████| 100%\n"
     ]
    }
   ],
   "source": [
    "hf_val = h2o.H2OFrame(x_test)"
   ]
  },
  {
   "cell_type": "code",
   "execution_count": 28,
   "metadata": {},
   "outputs": [
    {
     "name": "stdout",
     "output_type": "stream",
     "text": [
      "xgboost prediction progress: |████████████████████████████████████████████| 100%\n"
     ]
    }
   ],
   "source": [
    "predictions = aml.predict(hf_val)\n",
    "predictions_pd = predictions.as_data_frame()"
   ]
  },
  {
   "cell_type": "code",
   "execution_count": 29,
   "metadata": {},
   "outputs": [
    {
     "data": {
      "text/html": [
       "<div>\n",
       "<style scoped>\n",
       "    .dataframe tbody tr th:only-of-type {\n",
       "        vertical-align: middle;\n",
       "    }\n",
       "\n",
       "    .dataframe tbody tr th {\n",
       "        vertical-align: top;\n",
       "    }\n",
       "\n",
       "    .dataframe thead th {\n",
       "        text-align: right;\n",
       "    }\n",
       "</style>\n",
       "<table border=\"1\" class=\"dataframe\">\n",
       "  <thead>\n",
       "    <tr style=\"text-align: right;\">\n",
       "      <th></th>\n",
       "      <th>predict</th>\n",
       "      <th>p0</th>\n",
       "      <th>p1</th>\n",
       "    </tr>\n",
       "  </thead>\n",
       "  <tbody>\n",
       "    <tr>\n",
       "      <th>0</th>\n",
       "      <td>1</td>\n",
       "      <td>0.299512</td>\n",
       "      <td>0.700488</td>\n",
       "    </tr>\n",
       "    <tr>\n",
       "      <th>1</th>\n",
       "      <td>0</td>\n",
       "      <td>0.820793</td>\n",
       "      <td>0.179207</td>\n",
       "    </tr>\n",
       "    <tr>\n",
       "      <th>2</th>\n",
       "      <td>1</td>\n",
       "      <td>0.542932</td>\n",
       "      <td>0.457068</td>\n",
       "    </tr>\n",
       "    <tr>\n",
       "      <th>3</th>\n",
       "      <td>1</td>\n",
       "      <td>0.490345</td>\n",
       "      <td>0.509655</td>\n",
       "    </tr>\n",
       "    <tr>\n",
       "      <th>4</th>\n",
       "      <td>1</td>\n",
       "      <td>0.647635</td>\n",
       "      <td>0.352365</td>\n",
       "    </tr>\n",
       "  </tbody>\n",
       "</table>\n",
       "</div>"
      ],
      "text/plain": [
       "   predict        p0        p1\n",
       "0        1  0.299512  0.700488\n",
       "1        0  0.820793  0.179207\n",
       "2        1  0.542932  0.457068\n",
       "3        1  0.490345  0.509655\n",
       "4        1  0.647635  0.352365"
      ]
     },
     "execution_count": 29,
     "metadata": {},
     "output_type": "execute_result"
    }
   ],
   "source": [
    "predictions_pd.head()"
   ]
  },
  {
   "cell_type": "code",
   "execution_count": 31,
   "metadata": {},
   "outputs": [],
   "source": [
    "actuals = hf_val['is_related']\n",
    "actuals_pd = actuals.as_data_frame()"
   ]
  },
  {
   "cell_type": "code",
   "execution_count": 34,
   "metadata": {},
   "outputs": [],
   "source": [
    "classified = 0\n",
    "for i in range(0, predictions_pd.shape[0]):\n",
    "    prediction = predictions_pd.iloc[i].values[0]\n",
    "    #prediction = predictions_pd.iloc[i].values[1] #probability of y = 0\n",
    "    #prediction = predictions_pd.iloc[i].values[2] #probability of y = 1\n",
    "    \n",
    "    actual = actuals_pd.iloc[i].values[0]\n",
    "    \n",
    "    if actual == prediction:\n",
    "        classified = classified + 1"
   ]
  },
  {
   "cell_type": "code",
   "execution_count": 35,
   "metadata": {},
   "outputs": [
    {
     "name": "stdout",
     "output_type": "stream",
     "text": [
      "accuracy on test set is:  73.24425552153622 %\n"
     ]
    }
   ],
   "source": [
    "print(\"accuracy on test set is: \",100*classified / predictions_pd.shape[0],\"%\")"
   ]
  }
 ],
 "metadata": {
  "kernelspec": {
   "display_name": "Python 3",
   "language": "python",
   "name": "python3"
  },
  "language_info": {
   "codemirror_mode": {
    "name": "ipython",
    "version": 3
   },
   "file_extension": ".py",
   "mimetype": "text/x-python",
   "name": "python",
   "nbconvert_exporter": "python",
   "pygments_lexer": "ipython3",
   "version": "3.6.3"
  }
 },
 "nbformat": 4,
 "nbformat_minor": 2
}
